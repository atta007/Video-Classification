{
  "nbformat": 4,
  "nbformat_minor": 0,
  "metadata": {
    "colab": {
      "name": "Video_Classification.ipynb",
      "provenance": [],
      "collapsed_sections": [],
      "include_colab_link": true
    },
    "kernelspec": {
      "name": "python3",
      "display_name": "Python 3"
    },
    "accelerator": "GPU"
  },
  "cells": [
    {
      "cell_type": "markdown",
      "metadata": {
        "id": "view-in-github",
        "colab_type": "text"
      },
      "source": [
        "<a href=\"https://colab.research.google.com/github/atta007/Video-Classification/blob/master/Video_Classification.ipynb\" target=\"_parent\"><img src=\"https://colab.research.google.com/assets/colab-badge.svg\" alt=\"Open In Colab\"/></a>"
      ]
    },
    {
      "cell_type": "code",
      "metadata": {
        "id": "Li9_NmG2T_7V",
        "colab_type": "code",
        "outputId": "117b4fb8-592d-4b3a-a557-87ae0f2f3826",
        "colab": {
          "base_uri": "https://localhost:8080/",
          "height": 35
        }
      },
      "source": [
        "import cv2     # for capturing videos\n",
        "import math   # for mathematical operations\n",
        "import matplotlib.pyplot as plt    # for plotting the images\n",
        "%matplotlib inline\n",
        "import pandas as pd\n",
        "from keras.preprocessing import image   # for preprocessing the images\n",
        "import numpy as np    # for mathematical operations\n",
        "from keras.utils import np_utils\n",
        "from skimage.transform import resize   # for resizing images"
      ],
      "execution_count": 0,
      "outputs": [
        {
          "output_type": "stream",
          "text": [
            "Using TensorFlow backend.\n"
          ],
          "name": "stderr"
        }
      ]
    },
    {
      "cell_type": "code",
      "metadata": {
        "id": "LGrdsmNkWP5A",
        "colab_type": "code",
        "outputId": "3350171b-ee2e-4269-cd26-6084bb9617cf",
        "colab": {
          "resources": {
            "http://localhost:8080/nbextensions/google.colab/files.js": {
              "data": "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",
              "ok": true,
              "headers": [
                [
                  "content-type",
                  "application/javascript"
                ]
              ],
              "status": 200,
              "status_text": "OK"
            }
          },
          "base_uri": "https://localhost:8080/",
          "height": 77
        }
      },
      "source": [
        "from google.colab import files\n",
        "uploaded = files.upload()"
      ],
      "execution_count": 0,
      "outputs": [
        {
          "output_type": "display_data",
          "data": {
            "text/html": [
              "\n",
              "     <input type=\"file\" id=\"files-f3fcca55-d664-4ba3-85b7-e751f95ea1fe\" name=\"files[]\" multiple disabled />\n",
              "     <output id=\"result-f3fcca55-d664-4ba3-85b7-e751f95ea1fe\">\n",
              "      Upload widget is only available when the cell has been executed in the\n",
              "      current browser session. Please rerun this cell to enable.\n",
              "      </output>\n",
              "      <script src=\"/nbextensions/google.colab/files.js\"></script> "
            ],
            "text/plain": [
              "<IPython.core.display.HTML object>"
            ]
          },
          "metadata": {
            "tags": []
          }
        },
        {
          "output_type": "stream",
          "text": [
            "Saving Tom and Jerry 3.mp4 to Tom and Jerry 3.mp4\n"
          ],
          "name": "stdout"
        }
      ]
    },
    {
      "cell_type": "code",
      "metadata": {
        "id": "YH1Egb8CHb18",
        "colab_type": "code",
        "outputId": "0b62ec11-3816-4039-90bf-9a36bb253f60",
        "colab": {
          "base_uri": "https://localhost:8080/",
          "height": 35
        }
      },
      "source": [
        "!cp Tom and jerry.mp4\n"
      ],
      "execution_count": 0,
      "outputs": [
        {
          "output_type": "stream",
          "text": [
            "cp: target 'jerry.mp4' is not a directory\n"
          ],
          "name": "stdout"
        }
      ]
    },
    {
      "cell_type": "code",
      "metadata": {
        "id": "WOhU4mstWSBe",
        "colab_type": "code",
        "outputId": "5ead2d54-6649-45d8-9979-c3faef3af8c1",
        "colab": {
          "base_uri": "https://localhost:8080/",
          "height": 5490
        }
      },
      "source": [
        "count = 0\n",
        "videoFile = \"Tom and jerry.mp4\"\n",
        "cap = cv2.VideoCapture(videoFile)   # capturing the video from the given path\n",
        "frameRate = cap.get(5) #frame rate\n",
        "x=1\n",
        "\n",
        "while(cap.isOpened()):\n",
        "    frameId = cap.get(1) #current frame number\n",
        "    ret, frame = cap.read()\n",
        "    if (ret != True):\n",
        "        break\n",
        "    if (frameId % math.floor(frameRate) == 0):\n",
        "        filename =\"frame%d.jpg\" % count;count+=1\n",
        "        print(filename)\n",
        "\n",
        "        cv2.imwrite(filename, frame)\n",
        "cap.release()\n",
        "\n",
        "\n"
      ],
      "execution_count": 0,
      "outputs": [
        {
          "output_type": "stream",
          "text": [
            "frame0.jpg\n",
            "frame1.jpg\n",
            "frame2.jpg\n",
            "frame3.jpg\n",
            "frame4.jpg\n",
            "frame5.jpg\n",
            "frame6.jpg\n",
            "frame7.jpg\n",
            "frame8.jpg\n",
            "frame9.jpg\n",
            "frame10.jpg\n",
            "frame11.jpg\n",
            "frame12.jpg\n",
            "frame13.jpg\n",
            "frame14.jpg\n",
            "frame15.jpg\n",
            "frame16.jpg\n",
            "frame17.jpg\n",
            "frame18.jpg\n",
            "frame19.jpg\n",
            "frame20.jpg\n",
            "frame21.jpg\n",
            "frame22.jpg\n",
            "frame23.jpg\n",
            "frame24.jpg\n",
            "frame25.jpg\n",
            "frame26.jpg\n",
            "frame27.jpg\n",
            "frame28.jpg\n",
            "frame29.jpg\n",
            "frame30.jpg\n",
            "frame31.jpg\n",
            "frame32.jpg\n",
            "frame33.jpg\n",
            "frame34.jpg\n",
            "frame35.jpg\n",
            "frame36.jpg\n",
            "frame37.jpg\n",
            "frame38.jpg\n",
            "frame39.jpg\n",
            "frame40.jpg\n",
            "frame41.jpg\n",
            "frame42.jpg\n",
            "frame43.jpg\n",
            "frame44.jpg\n",
            "frame45.jpg\n",
            "frame46.jpg\n",
            "frame47.jpg\n",
            "frame48.jpg\n",
            "frame49.jpg\n",
            "frame50.jpg\n",
            "frame51.jpg\n",
            "frame52.jpg\n",
            "frame53.jpg\n",
            "frame54.jpg\n",
            "frame55.jpg\n",
            "frame56.jpg\n",
            "frame57.jpg\n",
            "frame58.jpg\n",
            "frame59.jpg\n",
            "frame60.jpg\n",
            "frame61.jpg\n",
            "frame62.jpg\n",
            "frame63.jpg\n",
            "frame64.jpg\n",
            "frame65.jpg\n",
            "frame66.jpg\n",
            "frame67.jpg\n",
            "frame68.jpg\n",
            "frame69.jpg\n",
            "frame70.jpg\n",
            "frame71.jpg\n",
            "frame72.jpg\n",
            "frame73.jpg\n",
            "frame74.jpg\n",
            "frame75.jpg\n",
            "frame76.jpg\n",
            "frame77.jpg\n",
            "frame78.jpg\n",
            "frame79.jpg\n",
            "frame80.jpg\n",
            "frame81.jpg\n",
            "frame82.jpg\n",
            "frame83.jpg\n",
            "frame84.jpg\n",
            "frame85.jpg\n",
            "frame86.jpg\n",
            "frame87.jpg\n",
            "frame88.jpg\n",
            "frame89.jpg\n",
            "frame90.jpg\n",
            "frame91.jpg\n",
            "frame92.jpg\n",
            "frame93.jpg\n",
            "frame94.jpg\n",
            "frame95.jpg\n",
            "frame96.jpg\n",
            "frame97.jpg\n",
            "frame98.jpg\n",
            "frame99.jpg\n",
            "frame100.jpg\n",
            "frame101.jpg\n",
            "frame102.jpg\n",
            "frame103.jpg\n",
            "frame104.jpg\n",
            "frame105.jpg\n",
            "frame106.jpg\n",
            "frame107.jpg\n",
            "frame108.jpg\n",
            "frame109.jpg\n",
            "frame110.jpg\n",
            "frame111.jpg\n",
            "frame112.jpg\n",
            "frame113.jpg\n",
            "frame114.jpg\n",
            "frame115.jpg\n",
            "frame116.jpg\n",
            "frame117.jpg\n",
            "frame118.jpg\n",
            "frame119.jpg\n",
            "frame120.jpg\n",
            "frame121.jpg\n",
            "frame122.jpg\n",
            "frame123.jpg\n",
            "frame124.jpg\n",
            "frame125.jpg\n",
            "frame126.jpg\n",
            "frame127.jpg\n",
            "frame128.jpg\n",
            "frame129.jpg\n",
            "frame130.jpg\n",
            "frame131.jpg\n",
            "frame132.jpg\n",
            "frame133.jpg\n",
            "frame134.jpg\n",
            "frame135.jpg\n",
            "frame136.jpg\n",
            "frame137.jpg\n",
            "frame138.jpg\n",
            "frame139.jpg\n",
            "frame140.jpg\n",
            "frame141.jpg\n",
            "frame142.jpg\n",
            "frame143.jpg\n",
            "frame144.jpg\n",
            "frame145.jpg\n",
            "frame146.jpg\n",
            "frame147.jpg\n",
            "frame148.jpg\n",
            "frame149.jpg\n",
            "frame150.jpg\n",
            "frame151.jpg\n",
            "frame152.jpg\n",
            "frame153.jpg\n",
            "frame154.jpg\n",
            "frame155.jpg\n",
            "frame156.jpg\n",
            "frame157.jpg\n",
            "frame158.jpg\n",
            "frame159.jpg\n",
            "frame160.jpg\n",
            "frame161.jpg\n",
            "frame162.jpg\n",
            "frame163.jpg\n",
            "frame164.jpg\n",
            "frame165.jpg\n",
            "frame166.jpg\n",
            "frame167.jpg\n",
            "frame168.jpg\n",
            "frame169.jpg\n",
            "frame170.jpg\n",
            "frame171.jpg\n",
            "frame172.jpg\n",
            "frame173.jpg\n",
            "frame174.jpg\n",
            "frame175.jpg\n",
            "frame176.jpg\n",
            "frame177.jpg\n",
            "frame178.jpg\n",
            "frame179.jpg\n",
            "frame180.jpg\n",
            "frame181.jpg\n",
            "frame182.jpg\n",
            "frame183.jpg\n",
            "frame184.jpg\n",
            "frame185.jpg\n",
            "frame186.jpg\n",
            "frame187.jpg\n",
            "frame188.jpg\n",
            "frame189.jpg\n",
            "frame190.jpg\n",
            "frame191.jpg\n",
            "frame192.jpg\n",
            "frame193.jpg\n",
            "frame194.jpg\n",
            "frame195.jpg\n",
            "frame196.jpg\n",
            "frame197.jpg\n",
            "frame198.jpg\n",
            "frame199.jpg\n",
            "frame200.jpg\n",
            "frame201.jpg\n",
            "frame202.jpg\n",
            "frame203.jpg\n",
            "frame204.jpg\n",
            "frame205.jpg\n",
            "frame206.jpg\n",
            "frame207.jpg\n",
            "frame208.jpg\n",
            "frame209.jpg\n",
            "frame210.jpg\n",
            "frame211.jpg\n",
            "frame212.jpg\n",
            "frame213.jpg\n",
            "frame214.jpg\n",
            "frame215.jpg\n",
            "frame216.jpg\n",
            "frame217.jpg\n",
            "frame218.jpg\n",
            "frame219.jpg\n",
            "frame220.jpg\n",
            "frame221.jpg\n",
            "frame222.jpg\n",
            "frame223.jpg\n",
            "frame224.jpg\n",
            "frame225.jpg\n",
            "frame226.jpg\n",
            "frame227.jpg\n",
            "frame228.jpg\n",
            "frame229.jpg\n",
            "frame230.jpg\n",
            "frame231.jpg\n",
            "frame232.jpg\n",
            "frame233.jpg\n",
            "frame234.jpg\n",
            "frame235.jpg\n",
            "frame236.jpg\n",
            "frame237.jpg\n",
            "frame238.jpg\n",
            "frame239.jpg\n",
            "frame240.jpg\n",
            "frame241.jpg\n",
            "frame242.jpg\n",
            "frame243.jpg\n",
            "frame244.jpg\n",
            "frame245.jpg\n",
            "frame246.jpg\n",
            "frame247.jpg\n",
            "frame248.jpg\n",
            "frame249.jpg\n",
            "frame250.jpg\n",
            "frame251.jpg\n",
            "frame252.jpg\n",
            "frame253.jpg\n",
            "frame254.jpg\n",
            "frame255.jpg\n",
            "frame256.jpg\n",
            "frame257.jpg\n",
            "frame258.jpg\n",
            "frame259.jpg\n",
            "frame260.jpg\n",
            "frame261.jpg\n",
            "frame262.jpg\n",
            "frame263.jpg\n",
            "frame264.jpg\n",
            "frame265.jpg\n",
            "frame266.jpg\n",
            "frame267.jpg\n",
            "frame268.jpg\n",
            "frame269.jpg\n",
            "frame270.jpg\n",
            "frame271.jpg\n",
            "frame272.jpg\n",
            "frame273.jpg\n",
            "frame274.jpg\n",
            "frame275.jpg\n",
            "frame276.jpg\n",
            "frame277.jpg\n",
            "frame278.jpg\n",
            "frame279.jpg\n",
            "frame280.jpg\n",
            "frame281.jpg\n",
            "frame282.jpg\n",
            "frame283.jpg\n",
            "frame284.jpg\n",
            "frame285.jpg\n",
            "frame286.jpg\n",
            "frame287.jpg\n",
            "frame288.jpg\n",
            "frame289.jpg\n",
            "frame290.jpg\n",
            "frame291.jpg\n",
            "frame292.jpg\n",
            "frame293.jpg\n",
            "frame294.jpg\n",
            "frame295.jpg\n",
            "frame296.jpg\n",
            "frame297.jpg\n"
          ],
          "name": "stdout"
        }
      ]
    },
    {
      "cell_type": "code",
      "metadata": {
        "id": "82Ky5vUMc0FV",
        "colab_type": "code",
        "outputId": "36c5872d-b185-4bb5-800e-2d42c97271e0",
        "colab": {
          "base_uri": "https://localhost:8080/",
          "height": 279
        }
      },
      "source": [
        "!ls  "
      ],
      "execution_count": 0,
      "outputs": [
        {
          "output_type": "stream",
          "text": [
            " 1_DcwBhYo15j7AU-v2gN61qGGd1ZablGK   frame21.jpg   frame3.jpg\n",
            " frame0.jpg\t\t\t     frame22.jpg   frame4.jpg\n",
            " frame10.jpg\t\t\t     frame23.jpg   frame5.jpg\n",
            " frame11.jpg\t\t\t     frame24.jpg   frame6.jpg\n",
            " frame12.jpg\t\t\t     frame25.jpg   frame7.jpg\n",
            " frame13.jpg\t\t\t     frame26.jpg   frame8.jpg\n",
            " frame14.jpg\t\t\t     frame27.jpg   frame9.jpg\n",
            " frame15.jpg\t\t\t     frame28.jpg   mapping_Tom_Jerry.csv\n",
            " frame16.jpg\t\t\t     frame29.jpg   sample_data\n",
            " frame17.jpg\t\t\t     frame2.jpg   'Tom and jerry (1).mp4'\n",
            " frame18.jpg\t\t\t     frame30.jpg  'Tom and jerry.mp4'\n",
            " frame19.jpg\t\t\t     frame31.jpg   view\n",
            " frame1.jpg\t\t\t     frame32.jpg\n",
            " frame20.jpg\t\t\t     frame33.jpg\n"
          ],
          "name": "stdout"
        }
      ]
    },
    {
      "cell_type": "code",
      "metadata": {
        "id": "AP46qQ48bhw5",
        "colab_type": "code",
        "outputId": "4db31217-7531-4cd1-9c7f-d3409eb99d96",
        "colab": {
          "base_uri": "https://localhost:8080/",
          "height": 258
        }
      },
      "source": [
        "img = plt.imread('frame0.jpg')   # reading image using its name\n",
        "plt.imshow(img)\n",
        "plt.axis(\"off\")"
      ],
      "execution_count": 0,
      "outputs": [
        {
          "output_type": "execute_result",
          "data": {
            "text/plain": [
              "(-0.5, 1279.5, 719.5, -0.5)"
            ]
          },
          "metadata": {
            "tags": []
          },
          "execution_count": 9
        },
        {
          "output_type": "display_data",
          "data": {
            "image/png": "[encoded data removed]",
            "text/plain": [
              "<Figure size 432x288 with 1 Axes>"
            ]
          },
          "metadata": {
            "tags": []
          }
        }
      ]
    },
    {
      "cell_type": "code",
      "metadata": {
        "id": "GCID6Ps9fFi7",
        "colab_type": "code",
        "outputId": "4e90406f-8322-4cb2-8190-cbb8df94c053",
        "colab": {
          "base_uri": "https://localhost:8080/",
          "height": 269
        }
      },
      "source": [
        "data = pd.read_csv('mapping_Tom_Jerry.csv')     # reading the csv file\n",
        "data.head(7)      # printing first 7 rows of the file\n"
      ],
      "execution_count": 0,
      "outputs": [
        {
          "output_type": "execute_result",
          "data": {
            "text/html": [
              "<div>\n",
              "<style scoped>\n",
              "    .dataframe tbody tr th:only-of-type {\n",
              "        vertical-align: middle;\n",
              "    }\n",
              "\n",
              "    .dataframe tbody tr th {\n",
              "        vertical-align: top;\n",
              "    }\n",
              "\n",
              "    .dataframe thead th {\n",
              "        text-align: right;\n",
              "    }\n",
              "</style>\n",
              "<table border=\"1\" class=\"dataframe\">\n",
              "  <thead>\n",
              "    <tr style=\"text-align: right;\">\n",
              "      <th></th>\n",
              "      <th>Image_ID</th>\n",
              "      <th>Class</th>\n",
              "    </tr>\n",
              "  </thead>\n",
              "  <tbody>\n",
              "    <tr>\n",
              "      <th>0</th>\n",
              "      <td>frame0.jpg</td>\n",
              "      <td>1</td>\n",
              "    </tr>\n",
              "    <tr>\n",
              "      <th>1</th>\n",
              "      <td>frame1.jpg</td>\n",
              "      <td>1</td>\n",
              "    </tr>\n",
              "    <tr>\n",
              "      <th>2</th>\n",
              "      <td>frame2.jpg</td>\n",
              "      <td>2</td>\n",
              "    </tr>\n",
              "    <tr>\n",
              "      <th>3</th>\n",
              "      <td>frame3.jpg</td>\n",
              "      <td>2</td>\n",
              "    </tr>\n",
              "    <tr>\n",
              "      <th>4</th>\n",
              "      <td>frame4.jpg</td>\n",
              "      <td>2</td>\n",
              "    </tr>\n",
              "    <tr>\n",
              "      <th>5</th>\n",
              "      <td>frame5.jpg</td>\n",
              "      <td>2</td>\n",
              "    </tr>\n",
              "    <tr>\n",
              "      <th>6</th>\n",
              "      <td>frame6.jpg</td>\n",
              "      <td>2</td>\n",
              "    </tr>\n",
              "  </tbody>\n",
              "</table>\n",
              "</div>"
            ],
            "text/plain": [
              "     Image_ID  Class\n",
              "0  frame0.jpg      1\n",
              "1  frame1.jpg      1\n",
              "2  frame2.jpg      2\n",
              "3  frame3.jpg      2\n",
              "4  frame4.jpg      2\n",
              "5  frame5.jpg      2\n",
              "6  frame6.jpg      2"
            ]
          },
          "metadata": {
            "tags": []
          },
          "execution_count": 10
        }
      ]
    },
    {
      "cell_type": "code",
      "metadata": {
        "id": "22UDXYq8bwxV",
        "colab_type": "code",
        "colab": {}
      },
      "source": [
        "X = [ ]     # creating an empty array\n",
        "for img_name in data.Image_ID:\n",
        "    img = plt.imread('' + img_name)\n",
        "    X.append(img)  # storing each image in array X\n",
        "    \n",
        "    \n",
        "X = np.array(X)    # converting list to array"
      ],
      "execution_count": 0,
      "outputs": []
    },
    {
      "cell_type": "code",
      "metadata": {
        "id": "W4W_5BL-jopI",
        "colab_type": "code",
        "colab": {}
      },
      "source": [
        "y = data.Class\n",
        "dummy_y = np_utils.to_categorical(y)    # one hot encoding Classes"
      ],
      "execution_count": 0,
      "outputs": []
    },
    {
      "cell_type": "code",
      "metadata": {
        "id": "130wBwChkpbo",
        "colab_type": "code",
        "outputId": "d915d321-c25c-4124-ecf2-341a4db50fd6",
        "colab": {
          "base_uri": "https://localhost:8080/",
          "height": 54
        }
      },
      "source": [
        "image = []\n",
        "for i in range(0,X.shape[0]):\n",
        "    a = resize(X[i], preserve_range=True, output_shape=(224,224)).astype(int)      # reshaping to 224*224*3\n",
        "    image.append(a)\n",
        "X = np.array(image)"
      ],
      "execution_count": 0,
      "outputs": [
        {
          "output_type": "stream",
          "text": [
            "/usr/local/lib/python3.6/dist-packages/skimage/transform/_warps.py:84: UserWarning: The default mode, 'constant', will be changed to 'reflect' in skimage 0.15.\n",
            "  warn(\"The default mode, 'constant', will be changed to 'reflect' in \"\n"
          ],
          "name": "stderr"
        }
      ]
    },
    {
      "cell_type": "code",
      "metadata": {
        "id": "cGsdl7uhNu5T",
        "colab_type": "code",
        "colab": {}
      },
      "source": [
        "from keras.applications.vgg16 import preprocess_input\n",
        "X = preprocess_input(X, mode='tf')      # preprocessing the input data"
      ],
      "execution_count": 0,
      "outputs": []
    },
    {
      "cell_type": "code",
      "metadata": {
        "id": "HIY3DFSyN0ev",
        "colab_type": "code",
        "colab": {}
      },
      "source": [
        "from sklearn.model_selection import train_test_split\n",
        "X_train, X_valid, y_train, y_valid = train_test_split(X, dummy_y, test_size=0.3, random_state=42)    # preparing the validation set"
      ],
      "execution_count": 0,
      "outputs": []
    },
    {
      "cell_type": "code",
      "metadata": {
        "id": "mV55blWtN4KJ",
        "colab_type": "code",
        "colab": {}
      },
      "source": [
        "from keras.models import Sequential\n",
        "from keras.applications.vgg16 import VGG16\n",
        "from keras.layers import Dense, InputLayer, Dropout"
      ],
      "execution_count": 0,
      "outputs": []
    },
    {
      "cell_type": "code",
      "metadata": {
        "id": "CESYZZkPN-6x",
        "colab_type": "code",
        "outputId": "73c96376-200f-45bd-9f0a-4f22b45e9793",
        "colab": {
          "base_uri": "https://localhost:8080/",
          "height": 129
        }
      },
      "source": [
        "base_model = VGG16(weights='imagenet', include_top=False, input_shape=(224, 224, 3))    # include_top=False to remove the top layer"
      ],
      "execution_count": 0,
      "outputs": [
        {
          "output_type": "stream",
          "text": [
            "WARNING:tensorflow:From /usr/local/lib/python3.6/dist-packages/tensorflow/python/framework/op_def_library.py:263: colocate_with (from tensorflow.python.framework.ops) is deprecated and will be removed in a future version.\n",
            "Instructions for updating:\n",
            "Colocations handled automatically by placer.\n",
            "Downloading data from https://github.com/fchollet/deep-learning-models/releases/download/v0.1/vgg16_weights_tf_dim_ordering_tf_kernels_notop.h5\n",
            "58892288/58889256 [==============================] - 4s 0us/step\n"
          ],
          "name": "stdout"
        }
      ]
    },
    {
      "cell_type": "code",
      "metadata": {
        "id": "cvNKpHtLOFjI",
        "colab_type": "code",
        "outputId": "e867546c-757e-4f97-e824-7efcdef55c16",
        "colab": {
          "base_uri": "https://localhost:8080/",
          "height": 35
        }
      },
      "source": [
        "X_train = base_model.predict(X_train)\n",
        "X_valid = base_model.predict(X_valid)\n",
        "X_train.shape, X_valid.shape"
      ],
      "execution_count": 0,
      "outputs": [
        {
          "output_type": "execute_result",
          "data": {
            "text/plain": [
              "((208, 7, 7, 512), (90, 7, 7, 512))"
            ]
          },
          "metadata": {
            "tags": []
          },
          "execution_count": 18
        }
      ]
    },
    {
      "cell_type": "code",
      "metadata": {
        "id": "gCGMFGaMOG8z",
        "colab_type": "code",
        "colab": {}
      },
      "source": [
        "X_train = X_train.reshape(208, 7*7*512)      # converting to 1-D\n",
        "X_valid = X_valid.reshape(90, 7*7*512)"
      ],
      "execution_count": 0,
      "outputs": []
    },
    {
      "cell_type": "code",
      "metadata": {
        "id": "N5xtSDSVOOrZ",
        "colab_type": "code",
        "colab": {}
      },
      "source": [
        "train = X_train/X_train.max()      # centering the data\n",
        "X_valid = X_valid/X_train.max()"
      ],
      "execution_count": 0,
      "outputs": []
    },
    {
      "cell_type": "code",
      "metadata": {
        "id": "GTaVg8b_OP8u",
        "colab_type": "code",
        "colab": {}
      },
      "source": [
        "# i. Building the model\n",
        "model = Sequential()\n",
        "model.add(InputLayer((7*7*512,)))    # input layer\n",
        "model.add(Dense(units=1024, activation='sigmoid')) # hidden layer\n",
        "model.add(Dense(3, activation='softmax'))    # output layer"
      ],
      "execution_count": 0,
      "outputs": []
    },
    {
      "cell_type": "code",
      "metadata": {
        "id": "B4ipEudMOfNV",
        "colab_type": "code",
        "outputId": "53ab33c0-1f65-49d2-8f6f-a7101f380b99",
        "colab": {
          "base_uri": "https://localhost:8080/",
          "height": 219
        }
      },
      "source": [
        "model.summary()"
      ],
      "execution_count": 0,
      "outputs": [
        {
          "output_type": "stream",
          "text": [
            "_________________________________________________________________\n",
            "Layer (type)                 Output Shape              Param #   \n",
            "=================================================================\n",
            "dense_1 (Dense)              (None, 1024)              25691136  \n",
            "_________________________________________________________________\n",
            "dense_2 (Dense)              (None, 3)                 3075      \n",
            "=================================================================\n",
            "Total params: 25,694,211\n",
            "Trainable params: 25,694,211\n",
            "Non-trainable params: 0\n",
            "_________________________________________________________________\n"
          ],
          "name": "stdout"
        }
      ]
    },
    {
      "cell_type": "code",
      "metadata": {
        "id": "f88iKbwQOhR4",
        "colab_type": "code",
        "colab": {}
      },
      "source": [
        "# ii. Compiling the model\n",
        "model.compile(loss='categorical_crossentropy', optimizer='adam', metrics=['accuracy'])"
      ],
      "execution_count": 0,
      "outputs": []
    },
    {
      "cell_type": "code",
      "metadata": {
        "id": "KCS1DgygO2kg",
        "colab_type": "code",
        "outputId": "f34b1794-b28e-4d7f-fbc0-9896465e9170",
        "colab": {
          "base_uri": "https://localhost:8080/",
          "height": 72
        }
      },
      "source": [
        "from keras.callbacks import EarlyStopping\n",
        "from tensorboardcolab import *\n",
        "tbc = TensorBoardColab()\n",
        "es = EarlyStopping(monitor = \"val_loss\", patience = 10)"
      ],
      "execution_count": 0,
      "outputs": [
        {
          "output_type": "stream",
          "text": [
            "Wait for 8 seconds...\n",
            "TensorBoard link:\n",
            "http://83c234a8.ngrok.io\n"
          ],
          "name": "stdout"
        }
      ]
    },
    {
      "cell_type": "code",
      "metadata": {
        "id": "SLerurjJOoQZ",
        "colab_type": "code",
        "outputId": "fd84f8cb-c5cf-4bda-e0d6-233d361504e7",
        "colab": {
          "base_uri": "https://localhost:8080/",
          "height": 458
        }
      },
      "source": [
        "# iii. Training the model\n",
        "model.fit(train, y_train, epochs=100, validation_data=(X_valid, y_valid),  callbacks = [es, TensorBoardColabCallback(tbc)])"
      ],
      "execution_count": 0,
      "outputs": [
        {
          "output_type": "stream",
          "text": [
            "Train on 208 samples, validate on 90 samples\n",
            "Epoch 1/100\n",
            "208/208 [==============================] - 0s 2ms/step - loss: 0.0162 - acc: 0.9904 - val_loss: 0.3504 - val_acc: 0.8556\n",
            "Epoch 2/100\n",
            "208/208 [==============================] - 0s 1ms/step - loss: 0.0148 - acc: 0.9904 - val_loss: 0.3955 - val_acc: 0.8556\n",
            "Epoch 3/100\n",
            "208/208 [==============================] - 0s 1ms/step - loss: 0.0081 - acc: 0.9952 - val_loss: 0.3859 - val_acc: 0.8556\n",
            "Epoch 4/100\n",
            "208/208 [==============================] - 0s 1ms/step - loss: 0.0073 - acc: 0.9952 - val_loss: 0.5147 - val_acc: 0.8556\n",
            "Epoch 5/100\n",
            "208/208 [==============================] - 0s 1ms/step - loss: 0.0113 - acc: 0.9952 - val_loss: 0.4356 - val_acc: 0.8667\n",
            "Epoch 6/100\n",
            "208/208 [==============================] - 0s 1ms/step - loss: 0.0264 - acc: 0.9952 - val_loss: 0.4353 - val_acc: 0.8667\n",
            "Epoch 7/100\n",
            "208/208 [==============================] - 0s 2ms/step - loss: 0.0143 - acc: 0.9952 - val_loss: 0.8334 - val_acc: 0.8222\n",
            "Epoch 8/100\n",
            "208/208 [==============================] - 0s 1ms/step - loss: 0.0257 - acc: 0.9904 - val_loss: 0.4143 - val_acc: 0.8889\n",
            "Epoch 9/100\n",
            "208/208 [==============================] - 0s 1ms/step - loss: 0.0182 - acc: 0.9904 - val_loss: 0.4766 - val_acc: 0.8556\n",
            "Epoch 10/100\n",
            "208/208 [==============================] - 0s 1ms/step - loss: 0.0134 - acc: 0.9952 - val_loss: 0.4402 - val_acc: 0.8444\n",
            "Epoch 11/100\n",
            "208/208 [==============================] - 0s 1ms/step - loss: 0.0112 - acc: 0.9904 - val_loss: 0.4177 - val_acc: 0.8444\n"
          ],
          "name": "stdout"
        },
        {
          "output_type": "execute_result",
          "data": {
            "text/plain": [
              "<keras.callbacks.History at 0x7f27c1f59ba8>"
            ]
          },
          "metadata": {
            "tags": []
          },
          "execution_count": 27
        }
      ]
    },
    {
      "cell_type": "code",
      "metadata": {
        "id": "DihqZMygOpNJ",
        "colab_type": "code",
        "outputId": "74cbe174-8379-4a5e-ff7a-e82d02f67ad0",
        "colab": {
          "base_uri": "https://localhost:8080/",
          "height": 2845
        }
      },
      "source": [
        "!ls"
      ],
      "execution_count": 0,
      "outputs": [
        {
          "output_type": "stream",
          "text": [
            "'1_DcwBhYo15j7AU-v2gN61qGGd1ZablGK?e=download'\t frame236.jpg\n",
            " Data\t\t\t\t\t\t frame237.jpg\n",
            " data.tar\t\t\t\t\t frame238.jpg\n",
            " frame0.jpg\t\t\t\t\t frame239.jpg\n",
            " frame100.jpg\t\t\t\t\t frame23.jpg\n",
            " frame101.jpg\t\t\t\t\t frame240.jpg\n",
            " frame102.jpg\t\t\t\t\t frame241.jpg\n",
            " frame103.jpg\t\t\t\t\t frame242.jpg\n",
            " frame104.jpg\t\t\t\t\t frame243.jpg\n",
            " frame105.jpg\t\t\t\t\t frame244.jpg\n",
            " frame106.jpg\t\t\t\t\t frame245.jpg\n",
            " frame107.jpg\t\t\t\t\t frame246.jpg\n",
            " frame108.jpg\t\t\t\t\t frame247.jpg\n",
            " frame109.jpg\t\t\t\t\t frame248.jpg\n",
            " frame10.jpg\t\t\t\t\t frame249.jpg\n",
            " frame110.jpg\t\t\t\t\t frame24.jpg\n",
            " frame111.jpg\t\t\t\t\t frame250.jpg\n",
            " frame112.jpg\t\t\t\t\t frame251.jpg\n",
            " frame113.jpg\t\t\t\t\t frame252.jpg\n",
            " frame114.jpg\t\t\t\t\t frame253.jpg\n",
            " frame115.jpg\t\t\t\t\t frame254.jpg\n",
            " frame116.jpg\t\t\t\t\t frame255.jpg\n",
            " frame117.jpg\t\t\t\t\t frame256.jpg\n",
            " frame118.jpg\t\t\t\t\t frame257.jpg\n",
            " frame119.jpg\t\t\t\t\t frame258.jpg\n",
            " frame11.jpg\t\t\t\t\t frame259.jpg\n",
            " frame120.jpg\t\t\t\t\t frame25.jpg\n",
            " frame121.jpg\t\t\t\t\t frame260.jpg\n",
            " frame122.jpg\t\t\t\t\t frame261.jpg\n",
            " frame123.jpg\t\t\t\t\t frame262.jpg\n",
            " frame124.jpg\t\t\t\t\t frame263.jpg\n",
            " frame125.jpg\t\t\t\t\t frame264.jpg\n",
            " frame126.jpg\t\t\t\t\t frame265.jpg\n",
            " frame127.jpg\t\t\t\t\t frame266.jpg\n",
            " frame128.jpg\t\t\t\t\t frame267.jpg\n",
            " frame129.jpg\t\t\t\t\t frame268.jpg\n",
            " frame12.jpg\t\t\t\t\t frame269.jpg\n",
            " frame130.jpg\t\t\t\t\t frame26.jpg\n",
            " frame131.jpg\t\t\t\t\t frame270.jpg\n",
            " frame132.jpg\t\t\t\t\t frame271.jpg\n",
            " frame133.jpg\t\t\t\t\t frame272.jpg\n",
            " frame134.jpg\t\t\t\t\t frame273.jpg\n",
            " frame135.jpg\t\t\t\t\t frame274.jpg\n",
            " frame136.jpg\t\t\t\t\t frame275.jpg\n",
            " frame137.jpg\t\t\t\t\t frame276.jpg\n",
            " frame138.jpg\t\t\t\t\t frame277.jpg\n",
            " frame139.jpg\t\t\t\t\t frame278.jpg\n",
            " frame13.jpg\t\t\t\t\t frame279.jpg\n",
            " frame140.jpg\t\t\t\t\t frame27.jpg\n",
            " frame141.jpg\t\t\t\t\t frame280.jpg\n",
            " frame142.jpg\t\t\t\t\t frame281.jpg\n",
            " frame143.jpg\t\t\t\t\t frame282.jpg\n",
            " frame144.jpg\t\t\t\t\t frame283.jpg\n",
            " frame145.jpg\t\t\t\t\t frame284.jpg\n",
            " frame146.jpg\t\t\t\t\t frame285.jpg\n",
            " frame147.jpg\t\t\t\t\t frame286.jpg\n",
            " frame148.jpg\t\t\t\t\t frame287.jpg\n",
            " frame149.jpg\t\t\t\t\t frame288.jpg\n",
            " frame14.jpg\t\t\t\t\t frame289.jpg\n",
            " frame150.jpg\t\t\t\t\t frame28.jpg\n",
            " frame151.jpg\t\t\t\t\t frame290.jpg\n",
            " frame152.jpg\t\t\t\t\t frame291.jpg\n",
            " frame153.jpg\t\t\t\t\t frame292.jpg\n",
            " frame154.jpg\t\t\t\t\t frame293.jpg\n",
            " frame155.jpg\t\t\t\t\t frame294.jpg\n",
            " frame156.jpg\t\t\t\t\t frame295.jpg\n",
            " frame157.jpg\t\t\t\t\t frame296.jpg\n",
            " frame158.jpg\t\t\t\t\t frame297.jpg\n",
            " frame159.jpg\t\t\t\t\t frame29.jpg\n",
            " frame15.jpg\t\t\t\t\t frame2.jpg\n",
            " frame160.jpg\t\t\t\t\t frame30.jpg\n",
            " frame161.jpg\t\t\t\t\t frame31.jpg\n",
            " frame162.jpg\t\t\t\t\t frame32.jpg\n",
            " frame163.jpg\t\t\t\t\t frame33.jpg\n",
            " frame164.jpg\t\t\t\t\t frame34.jpg\n",
            " frame165.jpg\t\t\t\t\t frame35.jpg\n",
            " frame166.jpg\t\t\t\t\t frame36.jpg\n",
            " frame167.jpg\t\t\t\t\t frame37.jpg\n",
            " frame168.jpg\t\t\t\t\t frame38.jpg\n",
            " frame169.jpg\t\t\t\t\t frame39.jpg\n",
            " frame16.jpg\t\t\t\t\t frame3.jpg\n",
            " frame170.jpg\t\t\t\t\t frame40.jpg\n",
            " frame171.jpg\t\t\t\t\t frame41.jpg\n",
            " frame172.jpg\t\t\t\t\t frame42.jpg\n",
            " frame173.jpg\t\t\t\t\t frame43.jpg\n",
            " frame174.jpg\t\t\t\t\t frame44.jpg\n",
            " frame175.jpg\t\t\t\t\t frame45.jpg\n",
            " frame176.jpg\t\t\t\t\t frame46.jpg\n",
            " frame177.jpg\t\t\t\t\t frame47.jpg\n",
            " frame178.jpg\t\t\t\t\t frame48.jpg\n",
            " frame179.jpg\t\t\t\t\t frame49.jpg\n",
            " frame17.jpg\t\t\t\t\t frame4.jpg\n",
            " frame180.jpg\t\t\t\t\t frame50.jpg\n",
            " frame181.jpg\t\t\t\t\t frame51.jpg\n",
            " frame182.jpg\t\t\t\t\t frame52.jpg\n",
            " frame183.jpg\t\t\t\t\t frame53.jpg\n",
            " frame184.jpg\t\t\t\t\t frame54.jpg\n",
            " frame185.jpg\t\t\t\t\t frame55.jpg\n",
            " frame186.jpg\t\t\t\t\t frame56.jpg\n",
            " frame187.jpg\t\t\t\t\t frame57.jpg\n",
            " frame188.jpg\t\t\t\t\t frame58.jpg\n",
            " frame189.jpg\t\t\t\t\t frame59.jpg\n",
            " frame18.jpg\t\t\t\t\t frame5.jpg\n",
            " frame190.jpg\t\t\t\t\t frame60.jpg\n",
            " frame191.jpg\t\t\t\t\t frame61.jpg\n",
            " frame192.jpg\t\t\t\t\t frame62.jpg\n",
            " frame193.jpg\t\t\t\t\t frame63.jpg\n",
            " frame194.jpg\t\t\t\t\t frame64.jpg\n",
            " frame195.jpg\t\t\t\t\t frame65.jpg\n",
            " frame196.jpg\t\t\t\t\t frame66.jpg\n",
            " frame197.jpg\t\t\t\t\t frame67.jpg\n",
            " frame198.jpg\t\t\t\t\t frame68.jpg\n",
            " frame199.jpg\t\t\t\t\t frame69.jpg\n",
            " frame19.jpg\t\t\t\t\t frame6.jpg\n",
            " frame1.jpg\t\t\t\t\t frame70.jpg\n",
            " frame200.jpg\t\t\t\t\t frame71.jpg\n",
            " frame201.jpg\t\t\t\t\t frame72.jpg\n",
            " frame202.jpg\t\t\t\t\t frame73.jpg\n",
            " frame203.jpg\t\t\t\t\t frame74.jpg\n",
            " frame204.jpg\t\t\t\t\t frame75.jpg\n",
            " frame205.jpg\t\t\t\t\t frame76.jpg\n",
            " frame206.jpg\t\t\t\t\t frame77.jpg\n",
            " frame207.jpg\t\t\t\t\t frame78.jpg\n",
            " frame208.jpg\t\t\t\t\t frame79.jpg\n",
            " frame209.jpg\t\t\t\t\t frame7.jpg\n",
            " frame20.jpg\t\t\t\t\t frame80.jpg\n",
            " frame210.jpg\t\t\t\t\t frame81.jpg\n",
            " frame211.jpg\t\t\t\t\t frame82.jpg\n",
            " frame212.jpg\t\t\t\t\t frame83.jpg\n",
            " frame213.jpg\t\t\t\t\t frame84.jpg\n",
            " frame214.jpg\t\t\t\t\t frame85.jpg\n",
            " frame215.jpg\t\t\t\t\t frame86.jpg\n",
            " frame216.jpg\t\t\t\t\t frame87.jpg\n",
            " frame217.jpg\t\t\t\t\t frame88.jpg\n",
            " frame218.jpg\t\t\t\t\t frame89.jpg\n",
            " frame219.jpg\t\t\t\t\t frame8.jpg\n",
            " frame21.jpg\t\t\t\t\t frame90.jpg\n",
            " frame220.jpg\t\t\t\t\t frame91.jpg\n",
            " frame221.jpg\t\t\t\t\t frame92.jpg\n",
            " frame222.jpg\t\t\t\t\t frame93.jpg\n",
            " frame223.jpg\t\t\t\t\t frame94.jpg\n",
            " frame224.jpg\t\t\t\t\t frame95.jpg\n",
            " frame225.jpg\t\t\t\t\t frame96.jpg\n",
            " frame226.jpg\t\t\t\t\t frame97.jpg\n",
            " frame227.jpg\t\t\t\t\t frame98.jpg\n",
            " frame228.jpg\t\t\t\t\t frame99.jpg\n",
            " frame229.jpg\t\t\t\t\t frame9.jpg\n",
            " frame22.jpg\t\t\t\t\t Graph\n",
            " frame230.jpg\t\t\t\t\t Graph2\n",
            " frame231.jpg\t\t\t\t\t male_image.jpg\n",
            " frame232.jpg\t\t\t\t\t mapping_Tom_Jerry.csv\n",
            " frame233.jpg\t\t\t\t\t sample_data\n",
            " frame234.jpg\t\t\t\t\t'Tom and Jerry 3.mp4'\n",
            " frame235.jpg\t\t\t\t\t'Tom and jerry.mp4'\n"
          ],
          "name": "stdout"
        }
      ]
    },
    {
      "cell_type": "code",
      "metadata": {
        "id": "cBm3bNdHTj_S",
        "colab_type": "code",
        "outputId": "e367a9b0-be2e-4327-ccfd-15c0d97a7107",
        "colab": {
          "resources": {
            "http://localhost:8080/nbextensions/google.colab/files.js": {
              "data": "Ly8gQ29weXJpZ2h0IDIwMTcgR29vZ2xlIExMQwovLwovLyBMaWNlbnNlZCB1bmRlciB0aGUgQXBhY2hlIExpY2Vuc2UsIFZlcnNpb24gMi4wICh0aGUgIkxpY2Vuc2UiKTsKLy8geW91IG1heSBub3QgdXNlIHRoaXMgZmlsZSBleGNlcHQgaW4gY29tcGxpYW5jZSB3aXRoIHRoZSBMaWNlbnNlLgovLyBZb3UgbWF5IG9idGFpbiBhIGNvcHkgb2YgdGhlIExpY2Vuc2UgYXQKLy8KLy8gICAgICBodHRwOi8vd3d3LmFwYWNoZS5vcmcvbGljZW5zZXMvTElDRU5TRS0yLjAKLy8KLy8gVW5sZXNzIHJlcXVpcmVkIGJ5IGFwcGxpY2FibGUgbGF3IG9yIGFncmVlZCB0byBpbiB3cml0aW5nLCBzb2Z0d2FyZQovLyBkaXN0cmlidXRlZCB1bmRlciB0aGUgTGljZW5zZSBpcyBkaXN0cmlidXRlZCBvbiBhbiAiQVMgSVMiIEJBU0lTLAovLyBXSVRIT1VUIFdBUlJBTlRJRVMgT1IgQ09ORElUSU9OUyBPRiBBTlkgS0lORCwgZWl0aGVyIGV4cHJlc3Mgb3IgaW1wbGllZC4KLy8gU2VlIHRoZSBMaWNlbnNlIGZvciB0aGUgc3BlY2lmaWMgbGFuZ3VhZ2UgZ292ZXJuaW5nIHBlcm1pc3Npb25zIGFuZAovLyBsaW1pdGF0aW9ucyB1bmRlciB0aGUgTGljZW5zZS4KCi8qKgogKiBAZmlsZW92ZXJ2aWV3IEhlbHBlcnMgZm9yIGdvb2dsZS5jb2xhYiBQeXRob24gbW9kdWxlLgogKi8KKGZ1bmN0aW9uKHNjb3BlKSB7CmZ1bmN0aW9uIHNwYW4odGV4dCwgc3R5bGVBdHRyaWJ1dGVzID0ge30pIHsKICBjb25zdCBlbGVtZW50ID0gZG9jdW1lbnQuY3JlYXRlRWxlbWVudCgnc3BhbicpOwogIGVsZW1lbnQudGV4dENvbnRlbnQgPSB0ZXh0OwogIGZvciAoY29uc3Qga2V5IG9mIE9iamVjdC5rZXlzKHN0eWxlQXR0cmlidXRlcykpIHsKICAgIGVsZW1lbnQuc3R5bGVba2V5XSA9IHN0eWxlQXR0cmlidXRlc1trZXldOwogIH0KICByZXR1cm4gZWxlbWVudDsKfQoKLy8gTWF4IG51bWJlciBvZiBieXRlcyB3aGljaCB3aWxsIGJlIHVwbG9hZGVkIGF0IGEgdGltZS4KY29uc3QgTUFYX1BBWUxPQURfU0laRSA9IDEwMCAqIDEwMjQ7Ci8vIE1heCBhbW91bnQgb2YgdGltZSB0byBibG9jayB3YWl0aW5nIGZvciB0aGUgdXNlci4KY29uc3QgRklMRV9DSEFOR0VfVElNRU9VVF9NUyA9IDMwICogMTAwMDsKCmZ1bmN0aW9uIF91cGxvYWRGaWxlcyhpbnB1dElkLCBvdXRwdXRJZCkgewogIGNvbnN0IHN0ZXBzID0gdXBsb2FkRmlsZXNTdGVwKGlucHV0SWQsIG91dHB1dElkKTsKICBjb25zdCBvdXRwdXRFbGVtZW50ID0gZG9jdW1lbnQuZ2V0RWxlbWVudEJ5SWQob3V0cHV0SWQpOwogIC8vIENhY2hlIHN0ZXBzIG9uIHRoZSBvdXRwdXRFbGVtZW50IHRvIG1ha2UgaXQgYXZhaWxhYmxlIGZvciB0aGUgbmV4dCBjYWxsCiAgLy8gdG8gdXBsb2FkRmlsZXNDb250aW51ZSBmcm9tIFB5dGhvbi4KICBvdXRwdXRFbGVtZW50LnN0ZXBzID0gc3RlcHM7CgogIHJldHVybiBfdXBsb2FkRmlsZXNDb250aW51ZShvdXRwdXRJZCk7Cn0KCi8vIFRoaXMgaXMgcm91Z2hseSBhbiBhc3luYyBnZW5lcmF0b3IgKG5vdCBzdXBwb3J0ZWQgaW4gdGhlIGJyb3dzZXIgeWV0KSwKLy8gd2hlcmUgdGhlcmUgYXJlIG11bHRpcGxlIGFzeW5jaHJvbm91cyBzdGVwcyBhbmQgdGhlIFB5dGhvbiBzaWRlIGlzIGdvaW5nCi8vIHRvIHBvbGwgZm9yIGNvbXBsZXRpb24gb2YgZWFjaCBzdGVwLgovLyBUaGlzIHVzZXMgYSBQcm9taXNlIHRvIGJsb2NrIHRoZSBweXRob24gc2lkZSBvbiBjb21wbGV0aW9uIG9mIGVhY2ggc3RlcCwKLy8gdGhlbiBwYXNzZXMgdGhlIHJlc3VsdCBvZiB0aGUgcHJldmlvdXMgc3RlcCBhcyB0aGUgaW5wdXQgdG8gdGhlIG5leHQgc3RlcC4KZnVuY3Rpb24gX3VwbG9hZEZpbGVzQ29udGludWUob3V0cHV0SWQpIHsKICBjb25zdCBvdXRwdXRFbGVtZW50ID0gZG9jdW1lbnQuZ2V0RWxlbWVudEJ5SWQob3V0cHV0SWQpOwogIGNvbnN0IHN0ZXBzID0gb3V0cHV0RWxlbWVudC5zdGVwczsKCiAgY29uc3QgbmV4dCA9IHN0ZXBzLm5leHQob3V0cHV0RWxlbWVudC5sYXN0UHJvbWlzZVZhbHVlKTsKICByZXR1cm4gUHJvbWlzZS5yZXNvbHZlKG5leHQudmFsdWUucHJvbWlzZSkudGhlbigodmFsdWUpID0+IHsKICAgIC8vIENhY2hlIHRoZSBsYXN0IHByb21pc2UgdmFsdWUgdG8gbWFrZSBpdCBhdmFpbGFibGUgdG8gdGhlIG5leHQKICAgIC8vIHN0ZXAgb2YgdGhlIGdlbmVyYXRvci4KICAgIG91dHB1dEVsZW1lbnQubGFzdFByb21pc2VWYWx1ZSA9IHZhbHVlOwogICAgcmV0dXJuIG5leHQudmFsdWUucmVzcG9uc2U7CiAgfSk7Cn0KCi8qKgogKiBHZW5lcmF0b3IgZnVuY3Rpb24gd2hpY2ggaXMgY2FsbGVkIGJldHdlZW4gZWFjaCBhc3luYyBzdGVwIG9mIHRoZSB1cGxvYWQKICogcHJvY2Vzcy4KICogQHBhcmFtIHtzdHJpbmd9IGlucHV0SWQgRWxlbWVudCBJRCBvZiB0aGUgaW5wdXQgZmlsZSBwaWNrZXIgZWxlbWVudC4KICogQHBhcmFtIHtzdHJpbmd9IG91dHB1dElkIEVsZW1lbnQgSUQgb2YgdGhlIG91dHB1dCBkaXNwbGF5LgogKiBAcmV0dXJuIHshSXRlcmFibGU8IU9iamVjdD59IEl0ZXJhYmxlIG9mIG5leHQgc3RlcHMuCiAqLwpmdW5jdGlvbiogdXBsb2FkRmlsZXNTdGVwKGlucHV0SWQsIG91dHB1dElkKSB7CiAgY29uc3QgaW5wdXRFbGVtZW50ID0gZG9jdW1lbnQuZ2V0RWxlbWVudEJ5SWQoaW5wdXRJZCk7CiAgaW5wdXRFbGVtZW50LmRpc2FibGVkID0gZmFsc2U7CgogIGNvbnN0IG91dHB1dEVsZW1lbnQgPSBkb2N1bWVudC5nZXRFbGVtZW50QnlJZChvdXRwdXRJZCk7CiAgb3V0cHV0RWxlbWVudC5pbm5lckhUTUwgPSAnJzsKCiAgY29uc3QgcGlja2VkUHJvbWlzZSA9IG5ldyBQcm9taXNlKChyZXNvbHZlKSA9PiB7CiAgICBpbnB1dEVsZW1lbnQuYWRkRXZlbnRMaXN0ZW5lcignY2hhbmdlJywgKGUpID0+IHsKICAgICAgcmVzb2x2ZShlLnRhcmdldC5maWxlcyk7CiAgICB9KTsKICB9KTsKCiAgY29uc3QgY2FuY2VsID0gZG9jdW1lbnQuY3JlYXRlRWxlbWVudCgnYnV0dG9uJyk7CiAgaW5wdXRFbGVtZW50LnBhcmVudEVsZW1lbnQuYXBwZW5kQ2hpbGQoY2FuY2VsKTsKICBjYW5jZWwudGV4dENvbnRlbnQgPSAnQ2FuY2VsIHVwbG9hZCc7CiAgY29uc3QgY2FuY2VsUHJvbWlzZSA9IG5ldyBQcm9taXNlKChyZXNvbHZlKSA9PiB7CiAgICBjYW5jZWwub25jbGljayA9ICgpID0+IHsKICAgICAgcmVzb2x2ZShudWxsKTsKICAgIH07CiAgfSk7CgogIC8vIENhbmNlbCB1cGxvYWQgaWYgdXNlciBoYXNuJ3QgcGlja2VkIGFueXRoaW5nIGluIHRpbWVvdXQuCiAgY29uc3QgdGltZW91dFByb21pc2UgPSBuZXcgUHJvbWlzZSgocmVzb2x2ZSkgPT4gewogICAgc2V0VGltZW91dCgoKSA9PiB7CiAgICAgIHJlc29sdmUobnVsbCk7CiAgICB9LCBGSUxFX0NIQU5HRV9USU1FT1VUX01TKTsKICB9KTsKCiAgLy8gV2FpdCBmb3IgdGhlIHVzZXIgdG8gcGljayB0aGUgZmlsZXMuCiAgY29uc3QgZmlsZXMgPSB5aWVsZCB7CiAgICBwcm9taXNlOiBQcm9taXNlLnJhY2UoW3BpY2tlZFByb21pc2UsIHRpbWVvdXRQcm9taXNlLCBjYW5jZWxQcm9taXNlXSksCiAgICByZXNwb25zZTogewogICAgICBhY3Rpb246ICdzdGFydGluZycsCiAgICB9CiAgfTsKCiAgaWYgKCFmaWxlcykgewogICAgcmV0dXJuIHsKICAgICAgcmVzcG9uc2U6IHsKICAgICAgICBhY3Rpb246ICdjb21wbGV0ZScsCiAgICAgIH0KICAgIH07CiAgfQoKICBjYW5jZWwucmVtb3ZlKCk7CgogIC8vIERpc2FibGUgdGhlIGlucHV0IGVsZW1lbnQgc2luY2UgZnVydGhlciBwaWNrcyBhcmUgbm90IGFsbG93ZWQuCiAgaW5wdXRFbGVtZW50LmRpc2FibGVkID0gdHJ1ZTsKCiAgZm9yIChjb25zdCBmaWxlIG9mIGZpbGVzKSB7CiAgICBjb25zdCBsaSA9IGRvY3VtZW50LmNyZWF0ZUVsZW1lbnQoJ2xpJyk7CiAgICBsaS5hcHBlbmQoc3BhbihmaWxlLm5hbWUsIHtmb250V2VpZ2h0OiAnYm9sZCd9KSk7CiAgICBsaS5hcHBlbmQoc3BhbigKICAgICAgICBgKCR7ZmlsZS50eXBlIHx8ICduL2EnfSkgLSAke2ZpbGUuc2l6ZX0gYnl0ZXMsIGAgKwogICAgICAgIGBsYXN0IG1vZGlmaWVkOiAkewogICAgICAgICAgICBmaWxlLmxhc3RNb2RpZmllZERhdGUgPyBmaWxlLmxhc3RNb2RpZmllZERhdGUudG9Mb2NhbGVEYXRlU3RyaW5nKCkgOgogICAgICAgICAgICAgICAgICAgICAgICAgICAgICAgICAgICAnbi9hJ30gLSBgKSk7CiAgICBjb25zdCBwZXJjZW50ID0gc3BhbignMCUgZG9uZScpOwogICAgbGkuYXBwZW5kQ2hpbGQocGVyY2VudCk7CgogICAgb3V0cHV0RWxlbWVudC5hcHBlbmRDaGlsZChsaSk7CgogICAgY29uc3QgZmlsZURhdGFQcm9taXNlID0gbmV3IFByb21pc2UoKHJlc29sdmUpID0+IHsKICAgICAgY29uc3QgcmVhZGVyID0gbmV3IEZpbGVSZWFkZXIoKTsKICAgICAgcmVhZGVyLm9ubG9hZCA9IChlKSA9PiB7CiAgICAgICAgcmVzb2x2ZShlLnRhcmdldC5yZXN1bHQpOwogICAgICB9OwogICAgICByZWFkZXIucmVhZEFzQXJyYXlCdWZmZXIoZmlsZSk7CiAgICB9KTsKICAgIC8vIFdhaXQgZm9yIHRoZSBkYXRhIHRvIGJlIHJlYWR5LgogICAgbGV0IGZpbGVEYXRhID0geWllbGQgewogICAgICBwcm9taXNlOiBmaWxlRGF0YVByb21pc2UsCiAgICAgIHJlc3BvbnNlOiB7CiAgICAgICAgYWN0aW9uOiAnY29udGludWUnLAogICAgICB9CiAgICB9OwoKICAgIC8vIFVzZSBhIGNodW5rZWQgc2VuZGluZyB0byBhdm9pZCBtZXNzYWdlIHNpemUgbGltaXRzLiBTZWUgYi82MjExNTY2MC4KICAgIGxldCBwb3NpdGlvbiA9IDA7CiAgICB3aGlsZSAocG9zaXRpb24gPCBmaWxlRGF0YS5ieXRlTGVuZ3RoKSB7CiAgICAgIGNvbnN0IGxlbmd0aCA9IE1hdGgubWluKGZpbGVEYXRhLmJ5dGVMZW5ndGggLSBwb3NpdGlvbiwgTUFYX1BBWUxPQURfU0laRSk7CiAgICAgIGNvbnN0IGNodW5rID0gbmV3IFVpbnQ4QXJyYXkoZmlsZURhdGEsIHBvc2l0aW9uLCBsZW5ndGgpOwogICAgICBwb3NpdGlvbiArPSBsZW5ndGg7CgogICAgICBjb25zdCBiYXNlNjQgPSBidG9hKFN0cmluZy5mcm9tQ2hhckNvZGUuYXBwbHkobnVsbCwgY2h1bmspKTsKICAgICAgeWllbGQgewogICAgICAgIHJlc3BvbnNlOiB7CiAgICAgICAgICBhY3Rpb246ICdhcHBlbmQnLAogICAgICAgICAgZmlsZTogZmlsZS5uYW1lLAogICAgICAgICAgZGF0YTogYmFzZTY0LAogICAgICAgIH0sCiAgICAgIH07CiAgICAgIHBlcmNlbnQudGV4dENvbnRlbnQgPQogICAgICAgICAgYCR7TWF0aC5yb3VuZCgocG9zaXRpb24gLyBmaWxlRGF0YS5ieXRlTGVuZ3RoKSAqIDEwMCl9JSBkb25lYDsKICAgIH0KICB9CgogIC8vIEFsbCBkb25lLgogIHlpZWxkIHsKICAgIHJlc3BvbnNlOiB7CiAgICAgIGFjdGlvbjogJ2NvbXBsZXRlJywKICAgIH0KICB9Owp9CgpzY29wZS5nb29nbGUgPSBzY29wZS5nb29nbGUgfHwge307CnNjb3BlLmdvb2dsZS5jb2xhYiA9IHNjb3BlLmdvb2dsZS5jb2xhYiB8fCB7fTsKc2NvcGUuZ29vZ2xlLmNvbGFiLl9maWxlcyA9IHsKICBfdXBsb2FkRmlsZXMsCiAgX3VwbG9hZEZpbGVzQ29udGludWUsCn07Cn0pKHNlbGYpOwo=",
              "ok": true,
              "headers": [
                [
                  "content-type",
                  "application/javascript"
                ]
              ],
              "status": 200,
              "status_text": "OK"
            }
          },
          "base_uri": "https://localhost:8080/",
          "height": 77
        }
      },
      "source": [
        "from google.colab import files\n",
        "uploaded = files.upload()"
      ],
      "execution_count": 0,
      "outputs": [
        {
          "output_type": "display_data",
          "data": {
            "text/html": [
              "\n",
              "     <input type=\"file\" id=\"files-29244243-9277-48f5-84c0-93a66645772f\" name=\"files[]\" multiple disabled />\n",
              "     <output id=\"result-29244243-9277-48f5-84c0-93a66645772f\">\n",
              "      Upload widget is only available when the cell has been executed in the\n",
              "      current browser session. Please rerun this cell to enable.\n",
              "      </output>\n",
              "      <script src=\"/nbextensions/google.colab/files.js\"></script> "
            ],
            "text/plain": [
              "<IPython.core.display.HTML object>"
            ]
          },
          "metadata": {
            "tags": []
          }
        },
        {
          "output_type": "stream",
          "text": [
            "Saving test(1).csv to test(1).csv\n"
          ],
          "name": "stdout"
        }
      ]
    },
    {
      "cell_type": "code",
      "metadata": {
        "id": "Ok8RLnBZT1Bj",
        "colab_type": "code",
        "outputId": "86cf830f-8b06-43cf-c44f-bd1d0d28cfff",
        "colab": {
          "base_uri": "https://localhost:8080/",
          "height": 2864
        }
      },
      "source": [
        "!ls"
      ],
      "execution_count": 0,
      "outputs": [
        {
          "output_type": "stream",
          "text": [
            "'1_DcwBhYo15j7AU-v2gN61qGGd1ZablGK?e=download'\t frame237.jpg\n",
            " Data\t\t\t\t\t\t frame238.jpg\n",
            " data.tar\t\t\t\t\t frame239.jpg\n",
            " frame0.jpg\t\t\t\t\t frame23.jpg\n",
            " frame100.jpg\t\t\t\t\t frame240.jpg\n",
            " frame101.jpg\t\t\t\t\t frame241.jpg\n",
            " frame102.jpg\t\t\t\t\t frame242.jpg\n",
            " frame103.jpg\t\t\t\t\t frame243.jpg\n",
            " frame104.jpg\t\t\t\t\t frame244.jpg\n",
            " frame105.jpg\t\t\t\t\t frame245.jpg\n",
            " frame106.jpg\t\t\t\t\t frame246.jpg\n",
            " frame107.jpg\t\t\t\t\t frame247.jpg\n",
            " frame108.jpg\t\t\t\t\t frame248.jpg\n",
            " frame109.jpg\t\t\t\t\t frame249.jpg\n",
            " frame10.jpg\t\t\t\t\t frame24.jpg\n",
            " frame110.jpg\t\t\t\t\t frame250.jpg\n",
            " frame111.jpg\t\t\t\t\t frame251.jpg\n",
            " frame112.jpg\t\t\t\t\t frame252.jpg\n",
            " frame113.jpg\t\t\t\t\t frame253.jpg\n",
            " frame114.jpg\t\t\t\t\t frame254.jpg\n",
            " frame115.jpg\t\t\t\t\t frame255.jpg\n",
            " frame116.jpg\t\t\t\t\t frame256.jpg\n",
            " frame117.jpg\t\t\t\t\t frame257.jpg\n",
            " frame118.jpg\t\t\t\t\t frame258.jpg\n",
            " frame119.jpg\t\t\t\t\t frame259.jpg\n",
            " frame11.jpg\t\t\t\t\t frame25.jpg\n",
            " frame120.jpg\t\t\t\t\t frame260.jpg\n",
            " frame121.jpg\t\t\t\t\t frame261.jpg\n",
            " frame122.jpg\t\t\t\t\t frame262.jpg\n",
            " frame123.jpg\t\t\t\t\t frame263.jpg\n",
            " frame124.jpg\t\t\t\t\t frame264.jpg\n",
            " frame125.jpg\t\t\t\t\t frame265.jpg\n",
            " frame126.jpg\t\t\t\t\t frame266.jpg\n",
            " frame127.jpg\t\t\t\t\t frame267.jpg\n",
            " frame128.jpg\t\t\t\t\t frame268.jpg\n",
            " frame129.jpg\t\t\t\t\t frame269.jpg\n",
            " frame12.jpg\t\t\t\t\t frame26.jpg\n",
            " frame130.jpg\t\t\t\t\t frame270.jpg\n",
            " frame131.jpg\t\t\t\t\t frame271.jpg\n",
            " frame132.jpg\t\t\t\t\t frame272.jpg\n",
            " frame133.jpg\t\t\t\t\t frame273.jpg\n",
            " frame134.jpg\t\t\t\t\t frame274.jpg\n",
            " frame135.jpg\t\t\t\t\t frame275.jpg\n",
            " frame136.jpg\t\t\t\t\t frame276.jpg\n",
            " frame137.jpg\t\t\t\t\t frame277.jpg\n",
            " frame138.jpg\t\t\t\t\t frame278.jpg\n",
            " frame139.jpg\t\t\t\t\t frame279.jpg\n",
            " frame13.jpg\t\t\t\t\t frame27.jpg\n",
            " frame140.jpg\t\t\t\t\t frame280.jpg\n",
            " frame141.jpg\t\t\t\t\t frame281.jpg\n",
            " frame142.jpg\t\t\t\t\t frame282.jpg\n",
            " frame143.jpg\t\t\t\t\t frame283.jpg\n",
            " frame144.jpg\t\t\t\t\t frame284.jpg\n",
            " frame145.jpg\t\t\t\t\t frame285.jpg\n",
            " frame146.jpg\t\t\t\t\t frame286.jpg\n",
            " frame147.jpg\t\t\t\t\t frame287.jpg\n",
            " frame148.jpg\t\t\t\t\t frame288.jpg\n",
            " frame149.jpg\t\t\t\t\t frame289.jpg\n",
            " frame14.jpg\t\t\t\t\t frame28.jpg\n",
            " frame150.jpg\t\t\t\t\t frame290.jpg\n",
            " frame151.jpg\t\t\t\t\t frame291.jpg\n",
            " frame152.jpg\t\t\t\t\t frame292.jpg\n",
            " frame153.jpg\t\t\t\t\t frame293.jpg\n",
            " frame154.jpg\t\t\t\t\t frame294.jpg\n",
            " frame155.jpg\t\t\t\t\t frame295.jpg\n",
            " frame156.jpg\t\t\t\t\t frame296.jpg\n",
            " frame157.jpg\t\t\t\t\t frame297.jpg\n",
            " frame158.jpg\t\t\t\t\t frame29.jpg\n",
            " frame159.jpg\t\t\t\t\t frame2.jpg\n",
            " frame15.jpg\t\t\t\t\t frame30.jpg\n",
            " frame160.jpg\t\t\t\t\t frame31.jpg\n",
            " frame161.jpg\t\t\t\t\t frame32.jpg\n",
            " frame162.jpg\t\t\t\t\t frame33.jpg\n",
            " frame163.jpg\t\t\t\t\t frame34.jpg\n",
            " frame164.jpg\t\t\t\t\t frame35.jpg\n",
            " frame165.jpg\t\t\t\t\t frame36.jpg\n",
            " frame166.jpg\t\t\t\t\t frame37.jpg\n",
            " frame167.jpg\t\t\t\t\t frame38.jpg\n",
            " frame168.jpg\t\t\t\t\t frame39.jpg\n",
            " frame169.jpg\t\t\t\t\t frame3.jpg\n",
            " frame16.jpg\t\t\t\t\t frame40.jpg\n",
            " frame170.jpg\t\t\t\t\t frame41.jpg\n",
            " frame171.jpg\t\t\t\t\t frame42.jpg\n",
            " frame172.jpg\t\t\t\t\t frame43.jpg\n",
            " frame173.jpg\t\t\t\t\t frame44.jpg\n",
            " frame174.jpg\t\t\t\t\t frame45.jpg\n",
            " frame175.jpg\t\t\t\t\t frame46.jpg\n",
            " frame176.jpg\t\t\t\t\t frame47.jpg\n",
            " frame177.jpg\t\t\t\t\t frame48.jpg\n",
            " frame178.jpg\t\t\t\t\t frame49.jpg\n",
            " frame179.jpg\t\t\t\t\t frame4.jpg\n",
            " frame17.jpg\t\t\t\t\t frame50.jpg\n",
            " frame180.jpg\t\t\t\t\t frame51.jpg\n",
            " frame181.jpg\t\t\t\t\t frame52.jpg\n",
            " frame182.jpg\t\t\t\t\t frame53.jpg\n",
            " frame183.jpg\t\t\t\t\t frame54.jpg\n",
            " frame184.jpg\t\t\t\t\t frame55.jpg\n",
            " frame185.jpg\t\t\t\t\t frame56.jpg\n",
            " frame186.jpg\t\t\t\t\t frame57.jpg\n",
            " frame187.jpg\t\t\t\t\t frame58.jpg\n",
            " frame188.jpg\t\t\t\t\t frame59.jpg\n",
            " frame189.jpg\t\t\t\t\t frame5.jpg\n",
            " frame18.jpg\t\t\t\t\t frame60.jpg\n",
            " frame190.jpg\t\t\t\t\t frame61.jpg\n",
            " frame191.jpg\t\t\t\t\t frame62.jpg\n",
            " frame192.jpg\t\t\t\t\t frame63.jpg\n",
            " frame193.jpg\t\t\t\t\t frame64.jpg\n",
            " frame194.jpg\t\t\t\t\t frame65.jpg\n",
            " frame195.jpg\t\t\t\t\t frame66.jpg\n",
            " frame196.jpg\t\t\t\t\t frame67.jpg\n",
            " frame197.jpg\t\t\t\t\t frame68.jpg\n",
            " frame198.jpg\t\t\t\t\t frame69.jpg\n",
            " frame199.jpg\t\t\t\t\t frame6.jpg\n",
            " frame19.jpg\t\t\t\t\t frame70.jpg\n",
            " frame1.jpg\t\t\t\t\t frame71.jpg\n",
            " frame200.jpg\t\t\t\t\t frame72.jpg\n",
            " frame201.jpg\t\t\t\t\t frame73.jpg\n",
            " frame202.jpg\t\t\t\t\t frame74.jpg\n",
            " frame203.jpg\t\t\t\t\t frame75.jpg\n",
            " frame204.jpg\t\t\t\t\t frame76.jpg\n",
            " frame205.jpg\t\t\t\t\t frame77.jpg\n",
            " frame206.jpg\t\t\t\t\t frame78.jpg\n",
            " frame207.jpg\t\t\t\t\t frame79.jpg\n",
            " frame208.jpg\t\t\t\t\t frame7.jpg\n",
            " frame209.jpg\t\t\t\t\t frame80.jpg\n",
            " frame20.jpg\t\t\t\t\t frame81.jpg\n",
            " frame210.jpg\t\t\t\t\t frame82.jpg\n",
            " frame211.jpg\t\t\t\t\t frame83.jpg\n",
            " frame212.jpg\t\t\t\t\t frame84.jpg\n",
            " frame213.jpg\t\t\t\t\t frame85.jpg\n",
            " frame214.jpg\t\t\t\t\t frame86.jpg\n",
            " frame215.jpg\t\t\t\t\t frame87.jpg\n",
            " frame216.jpg\t\t\t\t\t frame88.jpg\n",
            " frame217.jpg\t\t\t\t\t frame89.jpg\n",
            " frame218.jpg\t\t\t\t\t frame8.jpg\n",
            " frame219.jpg\t\t\t\t\t frame90.jpg\n",
            " frame21.jpg\t\t\t\t\t frame91.jpg\n",
            " frame220.jpg\t\t\t\t\t frame92.jpg\n",
            " frame221.jpg\t\t\t\t\t frame93.jpg\n",
            " frame222.jpg\t\t\t\t\t frame94.jpg\n",
            " frame223.jpg\t\t\t\t\t frame95.jpg\n",
            " frame224.jpg\t\t\t\t\t frame96.jpg\n",
            " frame225.jpg\t\t\t\t\t frame97.jpg\n",
            " frame226.jpg\t\t\t\t\t frame98.jpg\n",
            " frame227.jpg\t\t\t\t\t frame99.jpg\n",
            " frame228.jpg\t\t\t\t\t frame9.jpg\n",
            " frame229.jpg\t\t\t\t\t Graph\n",
            " frame22.jpg\t\t\t\t\t Graph2\n",
            " frame230.jpg\t\t\t\t\t male_image.jpg\n",
            " frame231.jpg\t\t\t\t\t mapping_Tom_Jerry.csv\n",
            " frame232.jpg\t\t\t\t\t sample_data\n",
            " frame233.jpg\t\t\t\t\t'test(1).csv'\n",
            " frame234.jpg\t\t\t\t\t'Tom and Jerry 3.mp4'\n",
            " frame235.jpg\t\t\t\t\t'Tom and jerry.mp4'\n",
            " frame236.jpg\n"
          ],
          "name": "stdout"
        }
      ]
    },
    {
      "cell_type": "code",
      "metadata": {
        "id": "dPoiFZA6UejK",
        "colab_type": "code",
        "outputId": "275142e8-94a2-4aac-c161-40b7c6af2e2d",
        "colab": {
          "base_uri": "https://localhost:8080/",
          "height": 35
        }
      },
      "source": [
        "count = 0\n",
        "videoFile = \"Tom and Jerry 3.mp4\"\n",
        "cap = cv2.VideoCapture(videoFile)\n",
        "frameRate = cap.get(5) #frame rate\n",
        "x=1\n",
        "while(cap.isOpened()):\n",
        "    frameId = cap.get(1) #current frame number\n",
        "    ret, frame = cap.read()\n",
        "    if (ret != True):\n",
        "        break\n",
        "    if (frameId % math.floor(frameRate) == 0):\n",
        "        filename =\"test%d.jpg\" % count;count+=1\n",
        "        cv2.imwrite(filename, frame)\n",
        "cap.release()\n",
        "print (\"Done!\")"
      ],
      "execution_count": 0,
      "outputs": [
        {
          "output_type": "stream",
          "text": [
            "Done!\n"
          ],
          "name": "stdout"
        }
      ]
    },
    {
      "cell_type": "code",
      "metadata": {
        "id": "f4ziZO49T6ZF",
        "colab_type": "code",
        "colab": {}
      },
      "source": [
        "test = pd.read_csv('test(1).csv')"
      ],
      "execution_count": 0,
      "outputs": []
    },
    {
      "cell_type": "code",
      "metadata": {
        "id": "On8OzdoBULUk",
        "colab_type": "code",
        "colab": {}
      },
      "source": [
        "test_image = []\n",
        "for img_name in test.Image_ID:\n",
        "    img = plt.imread('' + img_name)\n",
        "    test_image.append(img)\n",
        "test_img = np.array(test_image)"
      ],
      "execution_count": 0,
      "outputs": []
    },
    {
      "cell_type": "code",
      "metadata": {
        "id": "uc03sxy5UMtx",
        "colab_type": "code",
        "outputId": "9a940a6a-6da7-4b06-9cff-5377686c093f",
        "colab": {
          "base_uri": "https://localhost:8080/",
          "height": 54
        }
      },
      "source": [
        "test_image = []\n",
        "for i in range(0,test_img.shape[0]):\n",
        "    a = resize(test_img[i], preserve_range=True, output_shape=(224,224)).astype(int)\n",
        "    test_image.append(a)\n",
        "test_image = np.array(test_image)"
      ],
      "execution_count": 0,
      "outputs": [
        {
          "output_type": "stream",
          "text": [
            "/usr/local/lib/python3.6/dist-packages/skimage/transform/_warps.py:84: UserWarning: The default mode, 'constant', will be changed to 'reflect' in skimage 0.15.\n",
            "  warn(\"The default mode, 'constant', will be changed to 'reflect' in \"\n"
          ],
          "name": "stderr"
        }
      ]
    },
    {
      "cell_type": "code",
      "metadata": {
        "id": "MXqh0C3gVO4z",
        "colab_type": "code",
        "colab": {}
      },
      "source": [
        "# preprocessing the images\n",
        "test_image = preprocess_input(test_image, mode='tf')\n",
        "\n",
        "# extracting features from the images using pretrained model\n",
        "test_image = base_model.predict(test_image)\n",
        "\n",
        "# converting the images to 1-D form\n",
        "test_image = test_image.reshape(186, 7*7*512)\n",
        "\n",
        "# zero centered images\n",
        "test_image = test_image/test_image.max()"
      ],
      "execution_count": 0,
      "outputs": []
    },
    {
      "cell_type": "code",
      "metadata": {
        "id": "pgpRhzj1VUNo",
        "colab_type": "code",
        "colab": {}
      },
      "source": [
        "predictions = model.predict_classes(test_image)"
      ],
      "execution_count": 0,
      "outputs": []
    },
    {
      "cell_type": "code",
      "metadata": {
        "id": "uP7PLTtAVYbt",
        "colab_type": "code",
        "outputId": "319ea4d2-f5f7-4bcf-b6a3-5e7f9290cacc",
        "colab": {
          "base_uri": "https://localhost:8080/",
          "height": 54
        }
      },
      "source": [
        "print(\"The screen time of JERRY is\", predictions[predictions==1].shape[0], \"seconds\")\n",
        "print(\"The screen time of TOM is\", predictions[predictions==2].shape[0], \"seconds\")"
      ],
      "execution_count": 0,
      "outputs": [
        {
          "output_type": "stream",
          "text": [
            "The screen time of JERRY is 6 seconds\n",
            "The screen time of TOM is 119 seconds\n"
          ],
          "name": "stdout"
        }
      ]
    },
    {
      "cell_type": "code",
      "metadata": {
        "id": "jMtv1WBmVmQk",
        "colab_type": "code",
        "colab": {}
      },
      "source": [
        ""
      ],
      "execution_count": 0,
      "outputs": []
    }
  ]
}